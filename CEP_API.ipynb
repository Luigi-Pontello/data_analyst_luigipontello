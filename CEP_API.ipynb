{
  "nbformat": 4,
  "nbformat_minor": 0,
  "metadata": {
    "colab": {
      "name": "CEP - API",
      "provenance": [],
      "authorship_tag": "ABX9TyO0V9gvyP8ZVwHy0etCtstU",
      "include_colab_link": true
    },
    "kernelspec": {
      "name": "python3",
      "display_name": "Python 3"
    }
  },
  "cells": [
    {
      "cell_type": "markdown",
      "metadata": {
        "id": "view-in-github",
        "colab_type": "text"
      },
      "source": [
        "<a href=\"https://colab.research.google.com/github/Luigi-Pontello/data_analyst_luigipontello/blob/main/CEP_API.ipynb\" target=\"_parent\"><img src=\"https://colab.research.google.com/assets/colab-badge.svg\" alt=\"Open In Colab\"/></a>"
      ]
    },
    {
      "cell_type": "code",
      "metadata": {
        "id": "ehobEuZWza4V"
      },
      "source": [
        "import requests\r\n",
        "from sys import exit\r\n",
        "import json\r\n"
      ],
      "execution_count": 2,
      "outputs": []
    },
    {
      "cell_type": "code",
      "metadata": {
        "colab": {
          "base_uri": "https://localhost:8080/"
        },
        "id": "HgB3R92MzunI",
        "outputId": "88296c24-60d6-4797-bfaf-b8f251711007"
      },
      "source": [
        "def main():\r\n",
        "    print('########################')\r\n",
        "    print('##### Consulta CEP #####')\r\n",
        "    print('########################')\r\n",
        "    print('')\r\n",
        "\r\n",
        "#Adicionando um CEP para ser checado. \r\n",
        "\r\n",
        "    cep_input = input('Digite o CEP para a consulta: ')\r\n",
        "    \r\n",
        "#CEPs precisam conter 8 numeros, pelo menos no Brasil, então aqui barramos qualquer conjunto diferente de 8 numeros.\r\n",
        "    if len(cep_input) != 8:\r\n",
        "        print('O número de digitos está incorreto.')\r\n",
        "        exit()\r\n",
        "\r\n",
        "#Request de método GET da API do site Viacep.\r\n",
        "\r\n",
        "    request = requests.get('https://viacep.com.br/ws/{}/json/'.format(cep_input))\r\n",
        "\r\n",
        "    address_data = request.json()\r\n",
        "#A ideia é caso o CEP seja um CEP que exista, mostremos as informações que são válidas. \r\n",
        "    if 'erro' not in address_data:\r\n",
        "        print('===> CEP ENCONTRADO <===')\r\n",
        "        print('CEP: {}'.format(address_data['cep']))\r\n",
        "        print('Rua: {}'.format(address_data['logradouro']))\r\n",
        "        print('Complemento: {}'.format(address_data['complemento']))\r\n",
        "        print('Bairro: {}'.format(address_data['bairro']))\r\n",
        "        print('Cidade: {}'.format(address_data['localidade']))\r\n",
        "        print('Estado: {}'.format(address_data['uf']))\r\n",
        "\r\n",
        "    else:\r\n",
        "        print('{}: Cep inválido.'.format(cep_input))\r\n",
        "    \r\n",
        "    print('-----------------')\r\n",
        "    option = int(input('Deseja realizar uma nova consulta \\n 1.sim\\n 2.Não\\n'))\r\n",
        "    \r\n",
        "    if option ==1:\r\n",
        "        main()\r\n",
        "    else:\r\n",
        "        print('Adeus...')\r\n",
        "    \r\n",
        "\r\n",
        "if __name__ == '__main__':\r\n",
        "    main()"
      ],
      "execution_count": 3,
      "outputs": [
        {
          "output_type": "stream",
          "text": [
            "########################\n",
            "##### Consulta CEP #####\n",
            "########################\n",
            "\n",
            "Digite o CEP para a consulta: 35100187\n",
            "35100187: Cep inválido.\n",
            "-----------------\n",
            "Deseja realizar uma nova consulta \n",
            " 1.sim\n",
            " 2.Não\n",
            "2\n",
            "Adeus...\n"
          ],
          "name": "stdout"
        }
      ]
    }
  ]
}