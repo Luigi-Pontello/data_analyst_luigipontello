{
 "cells": [
  {
   "cell_type": "code",
   "execution_count": 1,
   "metadata": {},
   "outputs": [],
   "source": [
    "import pandas as pd\n",
    "import numpy as np\n",
    "import matplotlib.pyplot as plt\n",
    "import seaborn as sns"
   ]
  },
  {
   "cell_type": "code",
   "execution_count": 2,
   "metadata": {},
   "outputs": [],
   "source": [
    "pontos = pd.read_csv(\"pontos.xlsx.csv\", sep=';')\n",
    "premios = pd.read_csv(\"premios.csv\", sep=';')\n",
    "titulos = pd.read_csv(\"titulos.csv\", sep=';')\n",
    "participacao_jogadores = pd.read_csv(\"participacao_jogadores.csv\", sep=';')\n",
    "participacao = pd.read_csv(\"participacoes.csv\", sep=';')"
   ]
  },
  {
   "cell_type": "markdown",
   "metadata": {},
   "source": [
    "###### O intuito desta análise é apenas conhecer um pouco do cenário brasileiro de League of Legends, se tratando de números de jogadores e equipes. Todos os dados eu extrai da web, e organizei em alguns csvs, sem muito critério, a ideia é analisar e visualizar as informações por aqui."
   ]
  },
  {
   "cell_type": "markdown",
   "metadata": {},
   "source": [
    "#### Particiçação \n",
    "##### Vamos conhecer quais as equipes mais tradicionais do cenário de Esports do Brasil, na modalidade do League of Legends.\n",
    "\n",
    "\n",
    "###### Visualizando o DataFrame referente as participações."
   ]
  },
  {
   "cell_type": "code",
   "execution_count": 3,
   "metadata": {},
   "outputs": [
    {
     "data": {
      "text/html": [
       "<div>\n",
       "<style scoped>\n",
       "    .dataframe tbody tr th:only-of-type {\n",
       "        vertical-align: middle;\n",
       "    }\n",
       "\n",
       "    .dataframe tbody tr th {\n",
       "        vertical-align: top;\n",
       "    }\n",
       "\n",
       "    .dataframe thead th {\n",
       "        text-align: right;\n",
       "    }\n",
       "</style>\n",
       "<table border=\"1\" class=\"dataframe\">\n",
       "  <thead>\n",
       "    <tr style=\"text-align: right;\">\n",
       "      <th></th>\n",
       "      <th>Equipe</th>\n",
       "      <th>Participações</th>\n",
       "      <th>Edições das quais participou</th>\n",
       "    </tr>\n",
       "  </thead>\n",
       "  <tbody>\n",
       "    <tr>\n",
       "      <th>0</th>\n",
       "      <td>CNB e-Sports Club</td>\n",
       "      <td>14</td>\n",
       "      <td>2012,2013,2014(1ª e 2ª),2015(1ª e 2ª),2016(1ª ...</td>\n",
       "    </tr>\n",
       "    <tr>\n",
       "      <th>1</th>\n",
       "      <td>Vivo Keyd</td>\n",
       "      <td>14</td>\n",
       "      <td>2013(como Keyd Team),2014(1ª e 2ª),2015(1ª , 2...</td>\n",
       "    </tr>\n",
       "    <tr>\n",
       "      <th>2</th>\n",
       "      <td>KaBuM! e-Sports</td>\n",
       "      <td>14</td>\n",
       "      <td>2014(1ª e 2ª),2015(1ª,2ª e Pós-Temporada como ...</td>\n",
       "    </tr>\n",
       "    <tr>\n",
       "      <th>3</th>\n",
       "      <td>INTZ e-Sports</td>\n",
       "      <td>14</td>\n",
       "      <td>2014(2ª),2015(1ª,2ª e Pós-Temporada),2016(1ª e...</td>\n",
       "    </tr>\n",
       "    <tr>\n",
       "      <th>4</th>\n",
       "      <td>paiN Gaming</td>\n",
       "      <td>14</td>\n",
       "      <td>2012,2013,2014(1ª e 2ª),2015(1ª e 2ª), 2016(1ª...</td>\n",
       "    </tr>\n",
       "  </tbody>\n",
       "</table>\n",
       "</div>"
      ],
      "text/plain": [
       "              Equipe  Participações  \\\n",
       "0  CNB e-Sports Club             14   \n",
       "1          Vivo Keyd             14   \n",
       "2    KaBuM! e-Sports             14   \n",
       "3      INTZ e-Sports             14   \n",
       "4        paiN Gaming             14   \n",
       "\n",
       "                        Edições das quais participou  \n",
       "0  2012,2013,2014(1ª e 2ª),2015(1ª e 2ª),2016(1ª ...  \n",
       "1  2013(como Keyd Team),2014(1ª e 2ª),2015(1ª , 2...  \n",
       "2  2014(1ª e 2ª),2015(1ª,2ª e Pós-Temporada como ...  \n",
       "3  2014(2ª),2015(1ª,2ª e Pós-Temporada),2016(1ª e...  \n",
       "4  2012,2013,2014(1ª e 2ª),2015(1ª e 2ª), 2016(1ª...  "
      ]
     },
     "execution_count": 3,
     "metadata": {},
     "output_type": "execute_result"
    }
   ],
   "source": [
    "participacao.head()"
   ]
  },
  {
   "cell_type": "markdown",
   "metadata": {},
   "source": [
    "####  O CBLOL teve sua primeira edição em 2012, então primeira análise que eu queria era saber quais foram as equipes que disputaram a primeira edição do campeonato.\n",
    "#### Para isso, utilizo do recurso startswith para filtrar, pelo index, quais são as equipes."
   ]
  },
  {
   "cell_type": "code",
   "execution_count": 4,
   "metadata": {},
   "outputs": [
    {
     "data": {
      "text/html": [
       "<div>\n",
       "<style scoped>\n",
       "    .dataframe tbody tr th:only-of-type {\n",
       "        vertical-align: middle;\n",
       "    }\n",
       "\n",
       "    .dataframe tbody tr th {\n",
       "        vertical-align: top;\n",
       "    }\n",
       "\n",
       "    .dataframe thead th {\n",
       "        text-align: right;\n",
       "    }\n",
       "</style>\n",
       "<table border=\"1\" class=\"dataframe\">\n",
       "  <thead>\n",
       "    <tr style=\"text-align: right;\">\n",
       "      <th></th>\n",
       "      <th>Equipe</th>\n",
       "      <th>Participações</th>\n",
       "      <th>Edições das quais participou</th>\n",
       "    </tr>\n",
       "  </thead>\n",
       "  <tbody>\n",
       "    <tr>\n",
       "      <th>0</th>\n",
       "      <td>CNB e-Sports Club</td>\n",
       "      <td>14</td>\n",
       "      <td>True</td>\n",
       "    </tr>\n",
       "    <tr>\n",
       "      <th>4</th>\n",
       "      <td>paiN Gaming</td>\n",
       "      <td>14</td>\n",
       "      <td>True</td>\n",
       "    </tr>\n",
       "    <tr>\n",
       "      <th>17</th>\n",
       "      <td>RMA</td>\n",
       "      <td>2</td>\n",
       "      <td>True</td>\n",
       "    </tr>\n",
       "    <tr>\n",
       "      <th>26</th>\n",
       "      <td>vTi Ignis</td>\n",
       "      <td>1</td>\n",
       "      <td>True</td>\n",
       "    </tr>\n",
       "    <tr>\n",
       "      <th>27</th>\n",
       "      <td>vTi Nox</td>\n",
       "      <td>1</td>\n",
       "      <td>True</td>\n",
       "    </tr>\n",
       "    <tr>\n",
       "      <th>28</th>\n",
       "      <td>Influxo</td>\n",
       "      <td>1</td>\n",
       "      <td>True</td>\n",
       "    </tr>\n",
       "    <tr>\n",
       "      <th>29</th>\n",
       "      <td>Insight</td>\n",
       "      <td>1</td>\n",
       "      <td>True</td>\n",
       "    </tr>\n",
       "    <tr>\n",
       "      <th>30</th>\n",
       "      <td>Verdict</td>\n",
       "      <td>1</td>\n",
       "      <td>True</td>\n",
       "    </tr>\n",
       "  </tbody>\n",
       "</table>\n",
       "</div>"
      ],
      "text/plain": [
       "               Equipe  Participações  Edições das quais participou\n",
       "0   CNB e-Sports Club             14                          True\n",
       "4         paiN Gaming             14                          True\n",
       "17                RMA              2                          True\n",
       "26          vTi Ignis              1                          True\n",
       "27            vTi Nox              1                          True\n",
       "28            Influxo              1                          True\n",
       "29            Insight              1                          True\n",
       "30            Verdict              1                          True"
      ]
     },
     "execution_count": 4,
     "metadata": {},
     "output_type": "execute_result"
    }
   ],
   "source": [
    "participacao['Edições das quais participou'] = participacao['Edições das quais participou'].str.startswith('2012', na=False)\n",
    "participacao.loc[participacao['Edições das quais participou'] == True]\n"
   ]
  },
  {
   "cell_type": "markdown",
   "metadata": {},
   "source": [
    "#### Sendo assim, sabemos que as equipes que disputaram a primeira edição do CBLOL foram: CNB e-Sports Club, paiN Gaming, RMA, vTi Ignis,vTi Nox, Influxo, Insight, Verdict.\n",
    "#### Em 2021 o CBLOL adota o modelo de franquia, nesta nova modalidade, as equipes são fixas, e não existem mais rebaixamento. O que podemos observar é que, das 09 equipes que participaram da primeira edição, apenas a Pain Gaming se encontra hoje ainda ativa no campeonato.\n",
    "<img src=\"CBLOL2021.png\" >\n",
    "\n"
   ]
  },
  {
   "cell_type": "markdown",
   "metadata": {},
   "source": [
    "#### Agora, vamos saber quais equipes, em todo histórico, somaram mais pontos, menos pontos, e chegaram em mais finais."
   ]
  },
  {
   "cell_type": "code",
   "execution_count": 5,
   "metadata": {},
   "outputs": [
    {
     "data": {
      "text/html": [
       "<div>\n",
       "<style scoped>\n",
       "    .dataframe tbody tr th:only-of-type {\n",
       "        vertical-align: middle;\n",
       "    }\n",
       "\n",
       "    .dataframe tbody tr th {\n",
       "        vertical-align: top;\n",
       "    }\n",
       "\n",
       "    .dataframe thead th {\n",
       "        text-align: right;\n",
       "    }\n",
       "</style>\n",
       "<table border=\"1\" class=\"dataframe\">\n",
       "  <thead>\n",
       "    <tr style=\"text-align: right;\">\n",
       "      <th></th>\n",
       "      <th>Equipe</th>\n",
       "      <th>Pontos Ganhos</th>\n",
       "      <th>Vitórias</th>\n",
       "      <th>Empates</th>\n",
       "      <th>Derrotas</th>\n",
       "      <th>Finais Participadas</th>\n",
       "    </tr>\n",
       "  </thead>\n",
       "  <tbody>\n",
       "    <tr>\n",
       "      <th>0</th>\n",
       "      <td>vTi Nox</td>\n",
       "      <td>6</td>\n",
       "      <td>2</td>\n",
       "      <td>0</td>\n",
       "      <td>1</td>\n",
       "      <td>1</td>\n",
       "    </tr>\n",
       "    <tr>\n",
       "      <th>1</th>\n",
       "      <td>vTi Ignis</td>\n",
       "      <td>9</td>\n",
       "      <td>3</td>\n",
       "      <td>0</td>\n",
       "      <td>0</td>\n",
       "      <td>1</td>\n",
       "    </tr>\n",
       "    <tr>\n",
       "      <th>2</th>\n",
       "      <td>Vivo Keyd</td>\n",
       "      <td>149</td>\n",
       "      <td>44</td>\n",
       "      <td>17</td>\n",
       "      <td>20</td>\n",
       "      <td>5</td>\n",
       "    </tr>\n",
       "    <tr>\n",
       "      <th>3</th>\n",
       "      <td>TShow</td>\n",
       "      <td>0</td>\n",
       "      <td>0</td>\n",
       "      <td>0</td>\n",
       "      <td>7</td>\n",
       "      <td>0</td>\n",
       "    </tr>\n",
       "    <tr>\n",
       "      <th>4</th>\n",
       "      <td>Team United</td>\n",
       "      <td>5</td>\n",
       "      <td>1</td>\n",
       "      <td>2</td>\n",
       "      <td>7</td>\n",
       "      <td>0</td>\n",
       "    </tr>\n",
       "  </tbody>\n",
       "</table>\n",
       "</div>"
      ],
      "text/plain": [
       "        Equipe  Pontos Ganhos  Vitórias  Empates  Derrotas  \\\n",
       "0      vTi Nox              6         2        0         1   \n",
       "1    vTi Ignis              9         3        0         0   \n",
       "2    Vivo Keyd            149        44       17        20   \n",
       "3        TShow              0         0        0         7   \n",
       "4  Team United              5         1        2         7   \n",
       "\n",
       "   Finais Participadas  \n",
       "0                    1  \n",
       "1                    1  \n",
       "2                    5  \n",
       "3                    0  \n",
       "4                    0  "
      ]
     },
     "execution_count": 5,
     "metadata": {},
     "output_type": "execute_result"
    }
   ],
   "source": [
    "pontos.head()"
   ]
  },
  {
   "cell_type": "markdown",
   "metadata": {},
   "source": [
    "#### Segundo dataset: pontuação das equipes no CBLoL\n",
    "#### Durante o CBLoL as equipes que disputam vão acumulando pontos na competição. Consequentemente eu já tinha em mente que essa análise era um pouco falha, visto que equipes mais antigas provavelmente teriam mais pontos que as mais novas. \n",
    "#### Apesar disso, quis manter a ideia, para treinar um pouco da visualização de dados. Fiz um simples gráfico de barras, para poder visualizar as 5 equipes que mais pontuaram na história do CBLoL"
   ]
  },
  {
   "cell_type": "code",
   "execution_count": 6,
   "metadata": {},
   "outputs": [],
   "source": [
    "sorted_pontos = pontos.sort_values(by=['Pontos Ganhos'],ignore_index=True,na_position='first')\n",
    "sorted_pontos = sorted_pontos.tail()"
   ]
  },
  {
   "cell_type": "code",
   "execution_count": 7,
   "metadata": {
    "scrolled": true
   },
   "outputs": [
    {
     "data": {
      "image/png": "[encoded data removed]",
      "text/plain": [
       "<Figure size 432x288 with 1 Axes>"
      ]
     },
     "metadata": {
      "needs_background": "light"
     },
     "output_type": "display_data"
    }
   ],
   "source": [
    "#criando uma figure, axes\n",
    "fig, ax = plt.subplots()\n",
    "#Adicionando um título\n",
    "ax.set_title(\"5 Maiores pontuadores\", fontdict={'fontsize':15})\n",
    "#Colocando na inclinação os nomes das equipes\n",
    "plt.xticks(rotation = 60)\n",
    "#criando o gráfico de barras \n",
    "sns.barplot(x=sorted_pontos['Equipe'], y=sorted_pontos['Pontos Ganhos'], ax=ax, data=sorted_pontos)\n",
    "#otimizar espaço da figure\n",
    "fig.tight_layout();"
   ]
  },
  {
   "cell_type": "markdown",
   "metadata": {},
   "source": [
    "#### Conforme já esperado, CNB, Keyd e Pain constaram no top 5, mas minha surpresa foi reparar que INTZ e KaBum, que surgiram no cenário em 2014, 2 anos após a primeira edição, ja estavam no Top 5."
   ]
  },
  {
   "cell_type": "code",
   "execution_count": 8,
   "metadata": {},
   "outputs": [
    {
     "data": {
      "text/html": [
       "<div>\n",
       "<style scoped>\n",
       "    .dataframe tbody tr th:only-of-type {\n",
       "        vertical-align: middle;\n",
       "    }\n",
       "\n",
       "    .dataframe tbody tr th {\n",
       "        vertical-align: top;\n",
       "    }\n",
       "\n",
       "    .dataframe thead th {\n",
       "        text-align: right;\n",
       "    }\n",
       "</style>\n",
       "<table border=\"1\" class=\"dataframe\">\n",
       "  <thead>\n",
       "    <tr style=\"text-align: right;\">\n",
       "      <th></th>\n",
       "      <th>Equipe</th>\n",
       "      <th>Títulos</th>\n",
       "      <th>Vices</th>\n",
       "      <th>Edições em que foi campeão</th>\n",
       "      <th>Edições em que foi vice</th>\n",
       "      <th>Ref</th>\n",
       "    </tr>\n",
       "  </thead>\n",
       "  <tbody>\n",
       "    <tr>\n",
       "      <th>0</th>\n",
       "      <td>INTZ e-Sports</td>\n",
       "      <td>5</td>\n",
       "      <td>2</td>\n",
       "      <td>2015 (1ª), 2016 (1ª e 2ª), 2019 (1ª), 2020 (2ª)</td>\n",
       "      <td>2015 (2ª), 2019 (2ª)</td>\n",
       "      <td>[101]-</td>\n",
       "    </tr>\n",
       "    <tr>\n",
       "      <th>1</th>\n",
       "      <td>KaBuM!</td>\n",
       "      <td>4</td>\n",
       "      <td>0</td>\n",
       "      <td>2014 (2ª), 2018 (1ª e 2ª), 2020 (1ª)</td>\n",
       "      <td>Nenhuma</td>\n",
       "      <td>NaN</td>\n",
       "    </tr>\n",
       "    <tr>\n",
       "      <th>2</th>\n",
       "      <td>paiN Gaming</td>\n",
       "      <td>2</td>\n",
       "      <td>3</td>\n",
       "      <td>2013 , 2015 ( 2ª)</td>\n",
       "      <td>2014 (1°), 2017 (2ª), 2020 (2ª)</td>\n",
       "      <td>[102]</td>\n",
       "    </tr>\n",
       "    <tr>\n",
       "      <th>3</th>\n",
       "      <td>Vivo Keyd</td>\n",
       "      <td>1</td>\n",
       "      <td>4</td>\n",
       "      <td>2014 (1ª)</td>\n",
       "      <td>2015 (1ª), 2016 (1ª), 2017 (1ª), 2018 (1ª)</td>\n",
       "      <td>[103]</td>\n",
       "    </tr>\n",
       "    <tr>\n",
       "      <th>4</th>\n",
       "      <td>Flamengo eSports</td>\n",
       "      <td>1</td>\n",
       "      <td>3</td>\n",
       "      <td>2019 (2ª)</td>\n",
       "      <td>2018 (2ª), 2019 (1ª), 2020 (1ª)</td>\n",
       "      <td>NaN</td>\n",
       "    </tr>\n",
       "    <tr>\n",
       "      <th>5</th>\n",
       "      <td>vTi Ignis</td>\n",
       "      <td>1</td>\n",
       "      <td>0</td>\n",
       "      <td>2012</td>\n",
       "      <td>Nenhuma</td>\n",
       "      <td>NaN</td>\n",
       "    </tr>\n",
       "    <tr>\n",
       "      <th>6</th>\n",
       "      <td>RED Canids</td>\n",
       "      <td>1</td>\n",
       "      <td>0</td>\n",
       "      <td>2017 (1ª)</td>\n",
       "      <td>Nenhuma</td>\n",
       "      <td>[104]</td>\n",
       "    </tr>\n",
       "    <tr>\n",
       "      <th>7</th>\n",
       "      <td>Team oNe eSports</td>\n",
       "      <td>1</td>\n",
       "      <td>0</td>\n",
       "      <td>2017 (2ª)</td>\n",
       "      <td>Nenhuma</td>\n",
       "      <td>NaN</td>\n",
       "    </tr>\n",
       "    <tr>\n",
       "      <th>8</th>\n",
       "      <td>CNB e-Sports Club</td>\n",
       "      <td>0</td>\n",
       "      <td>3</td>\n",
       "      <td>Nenhuma</td>\n",
       "      <td>2013, 2014(2ª), 2016 (2ª)</td>\n",
       "      <td>NaN</td>\n",
       "    </tr>\n",
       "    <tr>\n",
       "      <th>9</th>\n",
       "      <td>vTi Nox</td>\n",
       "      <td>0</td>\n",
       "      <td>1</td>\n",
       "      <td>Nenhuma</td>\n",
       "      <td>2012</td>\n",
       "      <td>NaN</td>\n",
       "    </tr>\n",
       "  </tbody>\n",
       "</table>\n",
       "</div>"
      ],
      "text/plain": [
       "              Equipe  Títulos  Vices  \\\n",
       "0      INTZ e-Sports        5      2   \n",
       "1             KaBuM!        4      0   \n",
       "2        paiN Gaming        2      3   \n",
       "3          Vivo Keyd        1      4   \n",
       "4   Flamengo eSports        1      3   \n",
       "5          vTi Ignis        1      0   \n",
       "6         RED Canids        1      0   \n",
       "7   Team oNe eSports        1      0   \n",
       "8  CNB e-Sports Club        0      3   \n",
       "9            vTi Nox        0      1   \n",
       "\n",
       "                        Edições em que foi campeão  \\\n",
       "0  2015 (1ª), 2016 (1ª e 2ª), 2019 (1ª), 2020 (2ª)   \n",
       "1             2014 (2ª), 2018 (1ª e 2ª), 2020 (1ª)   \n",
       "2                                2013 , 2015 ( 2ª)   \n",
       "3                                        2014 (1ª)   \n",
       "4                                        2019 (2ª)   \n",
       "5                                             2012   \n",
       "6                                        2017 (1ª)   \n",
       "7                                        2017 (2ª)   \n",
       "8                                          Nenhuma   \n",
       "9                                          Nenhuma   \n",
       "\n",
       "                      Edições em que foi vice     Ref  \n",
       "0                        2015 (2ª), 2019 (2ª)  [101]-  \n",
       "1                                     Nenhuma     NaN  \n",
       "2             2014 (1°), 2017 (2ª), 2020 (2ª)   [102]  \n",
       "3  2015 (1ª), 2016 (1ª), 2017 (1ª), 2018 (1ª)   [103]  \n",
       "4             2018 (2ª), 2019 (1ª), 2020 (1ª)     NaN  \n",
       "5                                     Nenhuma     NaN  \n",
       "6                                     Nenhuma   [104]  \n",
       "7                                     Nenhuma     NaN  \n",
       "8                   2013, 2014(2ª), 2016 (2ª)     NaN  \n",
       "9                                        2012     NaN  "
      ]
     },
     "execution_count": 8,
     "metadata": {},
     "output_type": "execute_result"
    }
   ],
   "source": [
    "titulos"
   ]
  },
  {
   "cell_type": "markdown",
   "metadata": {},
   "source": [
    "#### Neste dataset, toda análise foi feita apenas visualizando o DataFrame. Creio que não seja a forma mais bonita para tal, mas já era possível fazer as considerações."
   ]
  },
  {
   "cell_type": "code",
   "execution_count": 9,
   "metadata": {},
   "outputs": [
    {
     "data": {
      "text/html": [
       "<div>\n",
       "<style scoped>\n",
       "    .dataframe tbody tr th:only-of-type {\n",
       "        vertical-align: middle;\n",
       "    }\n",
       "\n",
       "    .dataframe tbody tr th {\n",
       "        vertical-align: top;\n",
       "    }\n",
       "\n",
       "    .dataframe thead th {\n",
       "        text-align: right;\n",
       "    }\n",
       "</style>\n",
       "<table border=\"1\" class=\"dataframe\">\n",
       "  <thead>\n",
       "    <tr style=\"text-align: right;\">\n",
       "      <th></th>\n",
       "      <th>Equipe</th>\n",
       "      <th>Títulos</th>\n",
       "      <th>Vices</th>\n",
       "    </tr>\n",
       "  </thead>\n",
       "  <tbody>\n",
       "    <tr>\n",
       "      <th>0</th>\n",
       "      <td>INTZ e-Sports</td>\n",
       "      <td>5</td>\n",
       "      <td>2</td>\n",
       "    </tr>\n",
       "    <tr>\n",
       "      <th>1</th>\n",
       "      <td>KaBuM!</td>\n",
       "      <td>4</td>\n",
       "      <td>0</td>\n",
       "    </tr>\n",
       "    <tr>\n",
       "      <th>2</th>\n",
       "      <td>paiN Gaming</td>\n",
       "      <td>2</td>\n",
       "      <td>3</td>\n",
       "    </tr>\n",
       "    <tr>\n",
       "      <th>3</th>\n",
       "      <td>Vivo Keyd</td>\n",
       "      <td>1</td>\n",
       "      <td>4</td>\n",
       "    </tr>\n",
       "    <tr>\n",
       "      <th>4</th>\n",
       "      <td>Flamengo eSports</td>\n",
       "      <td>1</td>\n",
       "      <td>3</td>\n",
       "    </tr>\n",
       "    <tr>\n",
       "      <th>5</th>\n",
       "      <td>vTi Ignis</td>\n",
       "      <td>1</td>\n",
       "      <td>0</td>\n",
       "    </tr>\n",
       "    <tr>\n",
       "      <th>6</th>\n",
       "      <td>RED Canids</td>\n",
       "      <td>1</td>\n",
       "      <td>0</td>\n",
       "    </tr>\n",
       "    <tr>\n",
       "      <th>7</th>\n",
       "      <td>Team oNe eSports</td>\n",
       "      <td>1</td>\n",
       "      <td>0</td>\n",
       "    </tr>\n",
       "    <tr>\n",
       "      <th>8</th>\n",
       "      <td>CNB e-Sports Club</td>\n",
       "      <td>0</td>\n",
       "      <td>3</td>\n",
       "    </tr>\n",
       "    <tr>\n",
       "      <th>9</th>\n",
       "      <td>vTi Nox</td>\n",
       "      <td>0</td>\n",
       "      <td>1</td>\n",
       "    </tr>\n",
       "  </tbody>\n",
       "</table>\n",
       "</div>"
      ],
      "text/plain": [
       "              Equipe  Títulos  Vices\n",
       "0      INTZ e-Sports        5      2\n",
       "1             KaBuM!        4      0\n",
       "2        paiN Gaming        2      3\n",
       "3          Vivo Keyd        1      4\n",
       "4   Flamengo eSports        1      3\n",
       "5          vTi Ignis        1      0\n",
       "6         RED Canids        1      0\n",
       "7   Team oNe eSports        1      0\n",
       "8  CNB e-Sports Club        0      3\n",
       "9            vTi Nox        0      1"
      ]
     },
     "execution_count": 9,
     "metadata": {},
     "output_type": "execute_result"
    }
   ],
   "source": [
    "titulos = titulos[['Equipe', 'Títulos', 'Vices']]\n",
    "titulos"
   ]
  },
  {
   "cell_type": "markdown",
   "metadata": {},
   "source": [
    "#### Algumas análises que conseguimos fazer, apenas observando os títulos das equipes, é primeiramente o quão a INTZ é uma equipe forte em finais, sendo a que mais chegou em finais em todo CBLOL, mesmo iniciando sua jornada em 2014, a equipe já chegou em 7 finais.\n",
    "#### Outra observação interessante é que, o Flamengo, apesar de possuir 3 vices, é uma organização que chegou a competição no segundo semestre de 2018, ou seja, participou ate então de 5 edições do CBLOL, e ainda assim, sendo uma organização extremamente jovem, chegou a final em 4 das 5 edições.\n",
    "#### Ponto a se destacar é a KaBum, que nunca perdeu uma final que disputou, sendo 4 finais e 4 vitórias. \n",
    "####  E apesar de termos o Flamengo na competição, a brincadeira do cheirinho fica com a CNB, que apesar de estar na competição desde 2012, sendo sua última participação no segundo semestre de 2019, nunca foi campeã, sendo 3 vices na conta."
   ]
  },
  {
   "cell_type": "code",
   "execution_count": 10,
   "metadata": {},
   "outputs": [
    {
     "data": {
      "text/html": [
       "<div>\n",
       "<style scoped>\n",
       "    .dataframe tbody tr th:only-of-type {\n",
       "        vertical-align: middle;\n",
       "    }\n",
       "\n",
       "    .dataframe tbody tr th {\n",
       "        vertical-align: top;\n",
       "    }\n",
       "\n",
       "    .dataframe thead th {\n",
       "        text-align: right;\n",
       "    }\n",
       "</style>\n",
       "<table border=\"1\" class=\"dataframe\">\n",
       "  <thead>\n",
       "    <tr style=\"text-align: right;\">\n",
       "      <th></th>\n",
       "      <th>Jogador</th>\n",
       "      <th>Títulos</th>\n",
       "      <th>Vices</th>\n",
       "      <th>Edições em que foi campeão</th>\n",
       "      <th>Edições em que foi vice</th>\n",
       "    </tr>\n",
       "  </thead>\n",
       "  <tbody>\n",
       "    <tr>\n",
       "      <th>0</th>\n",
       "      <td>Ygor \"RedBert\" Freitas</td>\n",
       "      <td>3</td>\n",
       "      <td>1</td>\n",
       "      <td>2017 (2ª), 2019 (1ª) e 2020 (2ª)</td>\n",
       "      <td>2019 (2ª)</td>\n",
       "    </tr>\n",
       "    <tr>\n",
       "      <th>1</th>\n",
       "      <td>Thúlio \"SirT\" Carlos da Silva</td>\n",
       "      <td>2</td>\n",
       "      <td>0</td>\n",
       "      <td>2013 e 2015(2ª)</td>\n",
       "      <td>Nenhuma</td>\n",
       "    </tr>\n",
       "    <tr>\n",
       "      <th>2</th>\n",
       "      <td>Thiago \"TinOwns\" Sartori</td>\n",
       "      <td>1</td>\n",
       "      <td>3</td>\n",
       "      <td>2014(Final Regional)</td>\n",
       "      <td>2015(Pós-Temporada), 2016(2ª) e 2020(2ª)</td>\n",
       "    </tr>\n",
       "    <tr>\n",
       "      <th>3</th>\n",
       "      <td>Rodrigo \"Tay\" Panisa</td>\n",
       "      <td>2</td>\n",
       "      <td>2</td>\n",
       "      <td>2019(1ª) e 2020(2ª)</td>\n",
       "      <td>2017(2ª) e 2019(2ª)</td>\n",
       "    </tr>\n",
       "    <tr>\n",
       "      <th>4</th>\n",
       "      <td>Rafael \"rafes\" Peres</td>\n",
       "      <td>1</td>\n",
       "      <td>0</td>\n",
       "      <td>2012</td>\n",
       "      <td>Nenhuma</td>\n",
       "    </tr>\n",
       "  </tbody>\n",
       "</table>\n",
       "</div>"
      ],
      "text/plain": [
       "                         Jogador  Títulos  Vices  \\\n",
       "0         Ygor \"RedBert\" Freitas        3      1   \n",
       "1  Thúlio \"SirT\" Carlos da Silva        2      0   \n",
       "2       Thiago \"TinOwns\" Sartori        1      3   \n",
       "3           Rodrigo \"Tay\" Panisa        2      2   \n",
       "4           Rafael \"rafes\" Peres        1      0   \n",
       "\n",
       "         Edições em que foi campeão                   Edições em que foi vice  \n",
       "0  2017 (2ª), 2019 (1ª) e 2020 (2ª)                                 2019 (2ª)  \n",
       "1                   2013 e 2015(2ª)                                   Nenhuma  \n",
       "2              2014(Final Regional)  2015(Pós-Temporada), 2016(2ª) e 2020(2ª)  \n",
       "3               2019(1ª) e 2020(2ª)                       2017(2ª) e 2019(2ª)  \n",
       "4                              2012                                   Nenhuma  "
      ]
     },
     "execution_count": 10,
     "metadata": {},
     "output_type": "execute_result"
    }
   ],
   "source": [
    "participacao_jogadores.head()"
   ]
  },
  {
   "cell_type": "markdown",
   "metadata": {},
   "source": [
    "#### Neste quarto dataset, temos as informações de títulos e vices de cada jogador que ja participou do CBLoL.\n",
    "#### Primeiramente foi necessário tratar um pouco os dados, para facilitar a visualização em gráficos, para isso utilizei do sort_values()\n",
    "#### Além disso, criei uma nova coluna, somando títulos e vices, para constar participações em finais."
   ]
  },
  {
   "cell_type": "code",
   "execution_count": 11,
   "metadata": {},
   "outputs": [
    {
     "data": {
      "text/html": [
       "<div>\n",
       "<style scoped>\n",
       "    .dataframe tbody tr th:only-of-type {\n",
       "        vertical-align: middle;\n",
       "    }\n",
       "\n",
       "    .dataframe tbody tr th {\n",
       "        vertical-align: top;\n",
       "    }\n",
       "\n",
       "    .dataframe thead th {\n",
       "        text-align: right;\n",
       "    }\n",
       "</style>\n",
       "<table border=\"1\" class=\"dataframe\">\n",
       "  <thead>\n",
       "    <tr style=\"text-align: right;\">\n",
       "      <th></th>\n",
       "      <th>Jogador</th>\n",
       "      <th>Títulos</th>\n",
       "      <th>Vices</th>\n",
       "    </tr>\n",
       "  </thead>\n",
       "  <tbody>\n",
       "    <tr>\n",
       "      <th>0</th>\n",
       "      <td>Ygor \"RedBert\" Freitas</td>\n",
       "      <td>3</td>\n",
       "      <td>1</td>\n",
       "    </tr>\n",
       "    <tr>\n",
       "      <th>1</th>\n",
       "      <td>Thúlio \"SirT\" Carlos da Silva</td>\n",
       "      <td>2</td>\n",
       "      <td>0</td>\n",
       "    </tr>\n",
       "    <tr>\n",
       "      <th>2</th>\n",
       "      <td>Thiago \"TinOwns\" Sartori</td>\n",
       "      <td>1</td>\n",
       "      <td>3</td>\n",
       "    </tr>\n",
       "    <tr>\n",
       "      <th>3</th>\n",
       "      <td>Rodrigo \"Tay\" Panisa</td>\n",
       "      <td>2</td>\n",
       "      <td>2</td>\n",
       "    </tr>\n",
       "    <tr>\n",
       "      <th>4</th>\n",
       "      <td>Rafael \"rafes\" Peres</td>\n",
       "      <td>1</td>\n",
       "      <td>0</td>\n",
       "    </tr>\n",
       "  </tbody>\n",
       "</table>\n",
       "</div>"
      ],
      "text/plain": [
       "                         Jogador  Títulos  Vices\n",
       "0         Ygor \"RedBert\" Freitas        3      1\n",
       "1  Thúlio \"SirT\" Carlos da Silva        2      0\n",
       "2       Thiago \"TinOwns\" Sartori        1      3\n",
       "3           Rodrigo \"Tay\" Panisa        2      2\n",
       "4           Rafael \"rafes\" Peres        1      0"
      ]
     },
     "execution_count": 11,
     "metadata": {},
     "output_type": "execute_result"
    }
   ],
   "source": [
    "participacao_jogadores = participacao_jogadores[['Jogador', 'Títulos', 'Vices']]\n",
    "participacao_jogadores.head()"
   ]
  },
  {
   "cell_type": "code",
   "execution_count": 12,
   "metadata": {},
   "outputs": [
    {
     "name": "stderr",
     "output_type": "stream",
     "text": [
      "C:\\Users\\luigi\\Anaconda3\\lib\\site-packages\\ipykernel_launcher.py:3: SettingWithCopyWarning: \n",
      "A value is trying to be set on a copy of a slice from a DataFrame.\n",
      "Try using .loc[row_indexer,col_indexer] = value instead\n",
      "\n",
      "See the caveats in the documentation: https://pandas.pydata.org/pandas-docs/stable/user_guide/indexing.html#returning-a-view-versus-a-copy\n",
      "  This is separate from the ipykernel package so we can avoid doing imports until\n"
     ]
    },
    {
     "data": {
      "text/html": [
       "<div>\n",
       "<style scoped>\n",
       "    .dataframe tbody tr th:only-of-type {\n",
       "        vertical-align: middle;\n",
       "    }\n",
       "\n",
       "    .dataframe tbody tr th {\n",
       "        vertical-align: top;\n",
       "    }\n",
       "\n",
       "    .dataframe thead th {\n",
       "        text-align: right;\n",
       "    }\n",
       "</style>\n",
       "<table border=\"1\" class=\"dataframe\">\n",
       "  <thead>\n",
       "    <tr style=\"text-align: right;\">\n",
       "      <th></th>\n",
       "      <th>Jogador</th>\n",
       "      <th>Títulos</th>\n",
       "      <th>Vices</th>\n",
       "      <th>Finais</th>\n",
       "    </tr>\n",
       "  </thead>\n",
       "  <tbody>\n",
       "    <tr>\n",
       "      <th>0</th>\n",
       "      <td>Felipe \"brTT\" Gonçalves</td>\n",
       "      <td>5</td>\n",
       "      <td>3</td>\n",
       "      <td>8</td>\n",
       "    </tr>\n",
       "    <tr>\n",
       "      <th>1</th>\n",
       "      <td>Micael \"micaO\" Rodrigues</td>\n",
       "      <td>4</td>\n",
       "      <td>3</td>\n",
       "      <td>7</td>\n",
       "    </tr>\n",
       "    <tr>\n",
       "      <th>2</th>\n",
       "      <td>Gabriel \"Tockers\" Claumann</td>\n",
       "      <td>4</td>\n",
       "      <td>2</td>\n",
       "      <td>6</td>\n",
       "    </tr>\n",
       "  </tbody>\n",
       "</table>\n",
       "</div>"
      ],
      "text/plain": [
       "                      Jogador  Títulos  Vices  Finais\n",
       "0     Felipe \"brTT\" Gonçalves        5      3       8\n",
       "1    Micael \"micaO\" Rodrigues        4      3       7\n",
       "2  Gabriel \"Tockers\" Claumann        4      2       6"
      ]
     },
     "execution_count": 12,
     "metadata": {},
     "output_type": "execute_result"
    }
   ],
   "source": [
    "part_jog_sort = participacao_jogadores.sort_values(by=['Títulos'],ascending=False, ignore_index=True,na_position='first')\n",
    "part_jog_sort1 = part_jog_sort.head(10)\n",
    "part_jog_sort1['Finais'] = part_jog_sort1['Títulos'] + part_jog_sort1['Vices']\n",
    "part_jog_sort1.head(3)"
   ]
  },
  {
   "cell_type": "code",
   "execution_count": 13,
   "metadata": {},
   "outputs": [
    {
     "data": {
      "text/html": [
       "<div>\n",
       "<style scoped>\n",
       "    .dataframe tbody tr th:only-of-type {\n",
       "        vertical-align: middle;\n",
       "    }\n",
       "\n",
       "    .dataframe tbody tr th {\n",
       "        vertical-align: top;\n",
       "    }\n",
       "\n",
       "    .dataframe thead th {\n",
       "        text-align: right;\n",
       "    }\n",
       "</style>\n",
       "<table border=\"1\" class=\"dataframe\">\n",
       "  <thead>\n",
       "    <tr style=\"text-align: right;\">\n",
       "      <th></th>\n",
       "      <th>Jogador</th>\n",
       "      <th>Títulos</th>\n",
       "      <th>Vices</th>\n",
       "    </tr>\n",
       "  </thead>\n",
       "  <tbody>\n",
       "    <tr>\n",
       "      <th>0</th>\n",
       "      <td>Murilo \"Takeshi\" Alves</td>\n",
       "      <td>0</td>\n",
       "      <td>5</td>\n",
       "    </tr>\n",
       "    <tr>\n",
       "      <th>1</th>\n",
       "      <td>Caio \"Loop\" Almeida</td>\n",
       "      <td>2</td>\n",
       "      <td>3</td>\n",
       "    </tr>\n",
       "    <tr>\n",
       "      <th>2</th>\n",
       "      <td>Thiago \"TinOwns\" Sartori</td>\n",
       "      <td>1</td>\n",
       "      <td>3</td>\n",
       "    </tr>\n",
       "  </tbody>\n",
       "</table>\n",
       "</div>"
      ],
      "text/plain": [
       "                    Jogador  Títulos  Vices\n",
       "0    Murilo \"Takeshi\" Alves        0      5\n",
       "1       Caio \"Loop\" Almeida        2      3\n",
       "2  Thiago \"TinOwns\" Sartori        1      3"
      ]
     },
     "execution_count": 13,
     "metadata": {},
     "output_type": "execute_result"
    }
   ],
   "source": [
    "part_jog_sort = participacao_jogadores.sort_values(by=['Vices'],ascending=False, ignore_index=True,na_position='first')\n",
    "part_jog_sort2 = part_jog_sort.head(10)\n",
    "part_jog_sort2.head(3)"
   ]
  },
  {
   "cell_type": "markdown",
   "metadata": {},
   "source": [
    "### Treinando um pouco da visualização da dados, conseguimos chegar a esta visualização dos 5 mais vitoriosos do CBLoL."
   ]
  },
  {
   "cell_type": "code",
   "execution_count": 14,
   "metadata": {},
   "outputs": [
    {
     "data": {
      "image/png": "[encoded data removed]",
      "text/plain": [
       "<Figure size 720x432 with 1 Axes>"
      ]
     },
     "metadata": {
      "needs_background": "light"
     },
     "output_type": "display_data"
    }
   ],
   "source": [
    "# Quantidade de Títulos\n",
    "participacao_jogadores_t = part_jog_sort1['Títulos'].head(5)\n",
    "\n",
    "# Quantidade de Vices\n",
    "participacao_jogadores_v = part_jog_sort1['Vices'].head(5)\n",
    "\n",
    "plt.figure(figsize = (10, 6))\n",
    "\n",
    "# Cria eixo x para títulos e vices com uma separação de 0.25 entre as barras\n",
    "x1 =  np.arange(len(participacao_jogadores_t))\n",
    "x2 = [x + 0.25 for x in x1]\n",
    "\n",
    "plt.xticks(rotation = 50)\n",
    "\n",
    "\n",
    "# Plota as barras\n",
    "plt.bar(x1, participacao_jogadores_t, width=0.25, label = 'Títulos', color = 'b')\n",
    "plt.bar(x2, participacao_jogadores_v, width=0.25, label = 'Vices', color = 'y')\n",
    "\n",
    "# coloca o nome dos jogadores como label do eixo x\n",
    "jogadores = part_jog_sort1['Jogador']\n",
    "plt.xticks([x + 0.25 for x in range(len(participacao_jogadores_t))], jogadores)\n",
    "\n",
    "\n",
    "plt.title(\"Títulos x Vices\")\n",
    "plt.show()"
   ]
  },
  {
   "cell_type": "markdown",
   "metadata": {},
   "source": [
    "#### Desta forma vemos que o brTT é o jogador mais vitorioso do CBLoL, tendo na sua cola micaO e o Tockers que hoje está aposentado. \n",
    "#### Outra curiosidade que eu tive é, quais os jogadores que mais chegaram em finais durante todo o CBLoL?\n",
    "#### Esta resposta nós temos no gráfico a seguir:"
   ]
  },
  {
   "cell_type": "code",
   "execution_count": 15,
   "metadata": {},
   "outputs": [
    {
     "data": {
      "image/png": "[encoded data removed]",
      "text/plain": [
       "<Figure size 432x288 with 1 Axes>"
      ]
     },
     "metadata": {
      "needs_background": "light"
     },
     "output_type": "display_data"
    }
   ],
   "source": [
    "grupos = part_jog_sort1['Jogador']\n",
    "valores = part_jog_sort1['Finais']\n",
    "plt.barh(grupos, valores)\n",
    "plt.show()"
   ]
  },
  {
   "cell_type": "markdown",
   "metadata": {},
   "source": [
    "#### Novamente brTT e micaO se encontram nas primeiras colocações, fato curioso é que ambos são da mesma posição no jogo, são \"Ad Carry\" ou \"Atiradores\", normalmente são os responsáveis por causar maior dano na equipe.\n",
    "#### Agora uma das mais esperadas por mim, era a análise de maior vice, quem merece o título de eterno cheirinho do CBLoL?"
   ]
  },
  {
   "cell_type": "code",
   "execution_count": 16,
   "metadata": {},
   "outputs": [
    {
     "data": {
      "image/png": "[encoded data removed]",
      "text/plain": [
       "<Figure size 432x288 with 1 Axes>"
      ]
     },
     "metadata": {
      "needs_background": "light"
     },
     "output_type": "display_data"
    }
   ],
   "source": [
    "grupos = part_jog_sort2['Jogador']\n",
    "valores = part_jog_sort2['Vices']\n",
    "plt.barh(grupos, valores)\n",
    "plt.show()"
   ]
  },
  {
   "cell_type": "markdown",
   "metadata": {},
   "source": [
    "#### E o título ficou com o grande capitão, nosso Takeshi. Com 5 vices campeonatos, Takeshi nunca foi campeão do CBLoL, bateu na trave 5 vezes: 2013, 2014 (Final Regional), 2015 (1ª split), 2016 (1ª split), 2017 (1ª split)."
   ]
  },
  {
   "cell_type": "code",
   "execution_count": 17,
   "metadata": {
    "scrolled": true
   },
   "outputs": [
    {
     "data": {
      "text/html": [
       "<div>\n",
       "<style scoped>\n",
       "    .dataframe tbody tr th:only-of-type {\n",
       "        vertical-align: middle;\n",
       "    }\n",
       "\n",
       "    .dataframe tbody tr th {\n",
       "        vertical-align: top;\n",
       "    }\n",
       "\n",
       "    .dataframe thead th {\n",
       "        text-align: right;\n",
       "    }\n",
       "</style>\n",
       "<table border=\"1\" class=\"dataframe\">\n",
       "  <thead>\n",
       "    <tr style=\"text-align: right;\">\n",
       "      <th></th>\n",
       "      <th>Categoria</th>\n",
       "      <th>Ganhador</th>\n",
       "      <th>Equipe</th>\n",
       "      <th>2017</th>\n",
       "    </tr>\n",
       "  </thead>\n",
       "  <tbody>\n",
       "    <tr>\n",
       "      <th>0</th>\n",
       "      <td>Jogador Revelação</td>\n",
       "      <td>Absolut</td>\n",
       "      <td>Team One</td>\n",
       "      <td>2017</td>\n",
       "    </tr>\n",
       "    <tr>\n",
       "      <th>1</th>\n",
       "      <td>Caçador</td>\n",
       "      <td>4Lan</td>\n",
       "      <td>Team One</td>\n",
       "      <td>2017</td>\n",
       "    </tr>\n",
       "    <tr>\n",
       "      <th>2</th>\n",
       "      <td>Melhor Suporte</td>\n",
       "      <td>Jockster</td>\n",
       "      <td>INTZ</td>\n",
       "      <td>2017</td>\n",
       "    </tr>\n",
       "    <tr>\n",
       "      <th>3</th>\n",
       "      <td>Melhor Técnico</td>\n",
       "      <td>Neki</td>\n",
       "      <td>Team One</td>\n",
       "      <td>2017</td>\n",
       "    </tr>\n",
       "    <tr>\n",
       "      <th>4</th>\n",
       "      <td>Melhor Topo</td>\n",
       "      <td>Vvvert</td>\n",
       "      <td>Team One</td>\n",
       "      <td>2017</td>\n",
       "    </tr>\n",
       "  </tbody>\n",
       "</table>\n",
       "</div>"
      ],
      "text/plain": [
       "           Categoria  Ganhador    Equipe  2017\n",
       "0  Jogador Revelação   Absolut  Team One  2017\n",
       "1            Caçador      4Lan  Team One  2017\n",
       "2     Melhor Suporte  Jockster      INTZ  2017\n",
       "3     Melhor Técnico      Neki  Team One  2017\n",
       "4        Melhor Topo    Vvvert  Team One  2017"
      ]
     },
     "execution_count": 17,
     "metadata": {},
     "output_type": "execute_result"
    }
   ],
   "source": [
    "premios.head()"
   ]
  },
  {
   "cell_type": "markdown",
   "metadata": {},
   "source": [
    "#### Neste quinto e último dataset, iremos descobrir quem foram os maiores vencedores dos prêmios individuais que são realizados pela Riot Games. \n",
    "#### Vale destacar que estes prêmios começaram em 2017, então ainda são bem recentes e consequentemente muitos jogadores que aposentaram anteriormente a esta data, não tiveram oportunidade para concorrer. \n",
    "#### Para plotar o primeiro gráfico, utilizei o Seaborn."
   ]
  },
  {
   "cell_type": "code",
   "execution_count": 18,
   "metadata": {},
   "outputs": [
    {
     "name": "stderr",
     "output_type": "stream",
     "text": [
      "C:\\Users\\luigi\\Anaconda3\\lib\\site-packages\\seaborn\\categorical.py:3669: UserWarning: The `factorplot` function has been renamed to `catplot`. The original name will be removed in a future release. Please update your code. Note that the default `kind` in `factorplot` (`'point'`) has changed `'strip'` in `catplot`.\n",
      "  warnings.warn(msg)\n"
     ]
    },
    {
     "data": {
      "text/plain": [
       "<seaborn.axisgrid.FacetGrid at 0x1d61712f848>"
      ]
     },
     "execution_count": 18,
     "metadata": {},
     "output_type": "execute_result"
    },
    {
     "data": {
      "image/png": "[encoded data removed]",
      "text/plain": [
       "<Figure size 720x360 with 1 Axes>"
      ]
     },
     "metadata": {
      "needs_background": "light"
     },
     "output_type": "display_data"
    }
   ],
   "source": [
    "\n",
    "\n",
    "t = sns.factorplot('Ganhador', data=premios, kind='count', aspect=20/10)\n",
    "t.set_xticklabels(rotation=70)\n",
    "\n"
   ]
  },
  {
   "cell_type": "markdown",
   "metadata": {},
   "source": [
    "#### Novamente brTT figurando no topo, como o jogador mais premiado da história do CBLoL. Além de líder em finais, e títulos de campeão, brTT foi o jogador que mais foi premiado pela Riot Games.\n",
    "#### Agora vamos conferir qual foi a equipe com mais premiações individuais de jogador/técnico, primeiro o código utilizado:"
   ]
  },
  {
   "cell_type": "code",
   "execution_count": 19,
   "metadata": {},
   "outputs": [
    {
     "data": {
      "text/plain": [
       "<seaborn.axisgrid.FacetGrid at 0x1d6170b6b08>"
      ]
     },
     "execution_count": 19,
     "metadata": {},
     "output_type": "execute_result"
    },
    {
     "data": {
      "image/png": "[encoded data removed]",
      "text/plain": [
       "<Figure size 720x360 with 1 Axes>"
      ]
     },
     "metadata": {
      "needs_background": "light"
     },
     "output_type": "display_data"
    }
   ],
   "source": [
    "t1 = sns.factorplot('Equipe', data=premios, kind='count', aspect=20/10)\n",
    "t1.set_xticklabels(rotation=70)"
   ]
  },
  {
   "cell_type": "code",
   "execution_count": null,
   "metadata": {},
   "outputs": [],
   "source": []
  }
 ],
 "metadata": {
  "kernelspec": {
   "display_name": "Python 3",
   "language": "python",
   "name": "python3"
  },
  "language_info": {
   "codemirror_mode": {
    "name": "ipython",
    "version": 3
   },
   "file_extension": ".py",
   "mimetype": "text/x-python",
   "name": "python",
   "nbconvert_exporter": "python",
   "pygments_lexer": "ipython3",
   "version": "3.7.6"
  }
 },
 "nbformat": 4,
 "nbformat_minor": 4
}
