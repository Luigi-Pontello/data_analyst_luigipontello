{
 "cells": [
  {
   "cell_type": "code",
   "execution_count": 1,
   "metadata": {},
   "outputs": [],
   "source": [
    "import pandas as pd\n",
    "import numpy as np\n",
    "import matplotlib.pyplot as plt\n",
    "import seaborn as sns"
   ]
  },
  {
   "cell_type": "code",
   "execution_count": 79,
   "metadata": {},
   "outputs": [],
   "source": [
    "pontos = pd.read_csv(\"pontos.xlsx.csv\", sep=';')\n",
    "premios = pd.read_csv(\"premios.csv\", sep=';')\n",
    "titulos = pd.read_csv(\"titulos.csv\", sep=';')\n",
    "participacao_jogadores = pd.read_csv(\"participacao_jogadores.csv\", sep=';')\n",
    "participacao = pd.read_csv(\"participacoes.csv\", sep=';')"
   ]
  },
  {
   "cell_type": "markdown",
   "metadata": {},
   "source": [
    "###### O intuito desta análise é apenas conhecer um pouco do cenário brasileiro de League of Legends, se tratando de números de jogadores e equipes. Todos os dados eu extrai da web, e organizei em alguns csvs, sem muito critério, a ideia é analisar e visualizar as informações por aqui."
   ]
  },
  {
   "cell_type": "markdown",
   "metadata": {},
   "source": [
    "#### Particiçação \n",
    "Vamos conhecer quais as equipes mais tradicionais do cenário de Esports do Brasil, na modalidade do League of Legends.\n",
    "\n",
    "\n",
    "Visualizando o DataFrame referente as participações."
   ]
  },
  {
   "cell_type": "code",
   "execution_count": 55,
   "metadata": {},
   "outputs": [
    {
     "data": {
      "text/html": [
       "<div>\n",
       "<style scoped>\n",
       "    .dataframe tbody tr th:only-of-type {\n",
       "        vertical-align: middle;\n",
       "    }\n",
       "\n",
       "    .dataframe tbody tr th {\n",
       "        vertical-align: top;\n",
       "    }\n",
       "\n",
       "    .dataframe thead th {\n",
       "        text-align: right;\n",
       "    }\n",
       "</style>\n",
       "<table border=\"1\" class=\"dataframe\">\n",
       "  <thead>\n",
       "    <tr style=\"text-align: right;\">\n",
       "      <th></th>\n",
       "      <th>Equipe</th>\n",
       "      <th>Participações</th>\n",
       "      <th>Edições das quais participou</th>\n",
       "    </tr>\n",
       "  </thead>\n",
       "  <tbody>\n",
       "    <tr>\n",
       "      <th>0</th>\n",
       "      <td>CNB e-Sports Club</td>\n",
       "      <td>14</td>\n",
       "      <td>True</td>\n",
       "    </tr>\n",
       "    <tr>\n",
       "      <th>1</th>\n",
       "      <td>Vivo Keyd</td>\n",
       "      <td>14</td>\n",
       "      <td>False</td>\n",
       "    </tr>\n",
       "    <tr>\n",
       "      <th>2</th>\n",
       "      <td>KaBuM! e-Sports</td>\n",
       "      <td>14</td>\n",
       "      <td>False</td>\n",
       "    </tr>\n",
       "    <tr>\n",
       "      <th>3</th>\n",
       "      <td>INTZ e-Sports</td>\n",
       "      <td>14</td>\n",
       "      <td>False</td>\n",
       "    </tr>\n",
       "    <tr>\n",
       "      <th>4</th>\n",
       "      <td>paiN Gaming</td>\n",
       "      <td>14</td>\n",
       "      <td>True</td>\n",
       "    </tr>\n",
       "  </tbody>\n",
       "</table>\n",
       "</div>"
      ],
      "text/plain": [
       "              Equipe  Participações  Edições das quais participou\n",
       "0  CNB e-Sports Club             14                          True\n",
       "1          Vivo Keyd             14                         False\n",
       "2    KaBuM! e-Sports             14                         False\n",
       "3      INTZ e-Sports             14                         False\n",
       "4        paiN Gaming             14                          True"
      ]
     },
     "execution_count": 55,
     "metadata": {},
     "output_type": "execute_result"
    }
   ],
   "source": [
    "participacao.head()"
   ]
  },
  {
   "cell_type": "markdown",
   "metadata": {},
   "source": [
    "####  O CBLOL teve sua primeira edição em 2012, então primeira análise que eu queria era saber quais foram as equipes que disputaram a primeira edição do campeonato.\n",
    "#### Para isso, utilizo do recurso startswith para filtrar, pelo index, quais são as equipes."
   ]
  },
  {
   "cell_type": "code",
   "execution_count": 4,
   "metadata": {},
   "outputs": [
    {
     "data": {
      "text/html": [
       "<div>\n",
       "<style scoped>\n",
       "    .dataframe tbody tr th:only-of-type {\n",
       "        vertical-align: middle;\n",
       "    }\n",
       "\n",
       "    .dataframe tbody tr th {\n",
       "        vertical-align: top;\n",
       "    }\n",
       "\n",
       "    .dataframe thead th {\n",
       "        text-align: right;\n",
       "    }\n",
       "</style>\n",
       "<table border=\"1\" class=\"dataframe\">\n",
       "  <thead>\n",
       "    <tr style=\"text-align: right;\">\n",
       "      <th></th>\n",
       "      <th>Equipe</th>\n",
       "      <th>Participações</th>\n",
       "      <th>Edições das quais participou</th>\n",
       "    </tr>\n",
       "  </thead>\n",
       "  <tbody>\n",
       "    <tr>\n",
       "      <th>0</th>\n",
       "      <td>CNB e-Sports Club</td>\n",
       "      <td>14</td>\n",
       "      <td>True</td>\n",
       "    </tr>\n",
       "    <tr>\n",
       "      <th>4</th>\n",
       "      <td>paiN Gaming</td>\n",
       "      <td>14</td>\n",
       "      <td>True</td>\n",
       "    </tr>\n",
       "    <tr>\n",
       "      <th>17</th>\n",
       "      <td>RMA</td>\n",
       "      <td>2</td>\n",
       "      <td>True</td>\n",
       "    </tr>\n",
       "    <tr>\n",
       "      <th>26</th>\n",
       "      <td>vTi Ignis</td>\n",
       "      <td>1</td>\n",
       "      <td>True</td>\n",
       "    </tr>\n",
       "    <tr>\n",
       "      <th>27</th>\n",
       "      <td>vTi Nox</td>\n",
       "      <td>1</td>\n",
       "      <td>True</td>\n",
       "    </tr>\n",
       "    <tr>\n",
       "      <th>28</th>\n",
       "      <td>Influxo</td>\n",
       "      <td>1</td>\n",
       "      <td>True</td>\n",
       "    </tr>\n",
       "    <tr>\n",
       "      <th>29</th>\n",
       "      <td>Insight</td>\n",
       "      <td>1</td>\n",
       "      <td>True</td>\n",
       "    </tr>\n",
       "    <tr>\n",
       "      <th>30</th>\n",
       "      <td>Verdict</td>\n",
       "      <td>1</td>\n",
       "      <td>True</td>\n",
       "    </tr>\n",
       "  </tbody>\n",
       "</table>\n",
       "</div>"
      ],
      "text/plain": [
       "               Equipe  Participações  Edições das quais participou\n",
       "0   CNB e-Sports Club             14                          True\n",
       "4         paiN Gaming             14                          True\n",
       "17                RMA              2                          True\n",
       "26          vTi Ignis              1                          True\n",
       "27            vTi Nox              1                          True\n",
       "28            Influxo              1                          True\n",
       "29            Insight              1                          True\n",
       "30            Verdict              1                          True"
      ]
     },
     "execution_count": 4,
     "metadata": {},
     "output_type": "execute_result"
    }
   ],
   "source": [
    "participacao['Edições das quais participou'] = participacao['Edições das quais participou'].str.startswith('2012', na=False)\n",
    "participacao.loc[participacao['Edições das quais participou'] == True]\n"
   ]
  },
  {
   "cell_type": "markdown",
   "metadata": {},
   "source": [
    "#### Sendo assim, sabemos que as equipes que disputaram a primeira edição do CBLOL foram: CNB e-Sports Club, paiN Gaming, RMA, vTi Ignis,vTi Nox, Influxo, Insight, Verdict.\n",
    "#### Em 2021 o CBLOL adota o modelo de franquia, nesta nova modalidade, as equipes são fixas, e não existem mais rebaixamento. O que podemos observar é que, das 09 equipes que participaram da primeira edição, apenas a Pain Gaming se encontra hoje ainda ativa no campeonato.\n",
    "<img src=\"CBLOL2021.png\" >\n",
    "\n"
   ]
  },
  {
   "cell_type": "markdown",
   "metadata": {},
   "source": [
    "### ------------------------------------------------------------------------------------------------------------------------------------------------------------"
   ]
  },
  {
   "cell_type": "markdown",
   "metadata": {},
   "source": [
    "#### Agora, vamos saber quais equipes, em todo histórico, somaram mais pontos, menos pontos, e chegaram em mais finais."
   ]
  },
  {
   "cell_type": "code",
   "execution_count": 54,
   "metadata": {},
   "outputs": [
    {
     "data": {
      "text/html": [
       "<div>\n",
       "<style scoped>\n",
       "    .dataframe tbody tr th:only-of-type {\n",
       "        vertical-align: middle;\n",
       "    }\n",
       "\n",
       "    .dataframe tbody tr th {\n",
       "        vertical-align: top;\n",
       "    }\n",
       "\n",
       "    .dataframe thead th {\n",
       "        text-align: right;\n",
       "    }\n",
       "</style>\n",
       "<table border=\"1\" class=\"dataframe\">\n",
       "  <thead>\n",
       "    <tr style=\"text-align: right;\">\n",
       "      <th></th>\n",
       "      <th>Equipe</th>\n",
       "      <th>Pontos Ganhos</th>\n",
       "      <th>Vitórias</th>\n",
       "      <th>Empates</th>\n",
       "      <th>Derrotas</th>\n",
       "      <th>Finais Participadas</th>\n",
       "    </tr>\n",
       "  </thead>\n",
       "  <tbody>\n",
       "    <tr>\n",
       "      <th>0</th>\n",
       "      <td>vTi Nox</td>\n",
       "      <td>6</td>\n",
       "      <td>2</td>\n",
       "      <td>0</td>\n",
       "      <td>1</td>\n",
       "      <td>1</td>\n",
       "    </tr>\n",
       "    <tr>\n",
       "      <th>1</th>\n",
       "      <td>vTi Ignis</td>\n",
       "      <td>9</td>\n",
       "      <td>3</td>\n",
       "      <td>0</td>\n",
       "      <td>0</td>\n",
       "      <td>1</td>\n",
       "    </tr>\n",
       "    <tr>\n",
       "      <th>2</th>\n",
       "      <td>Vivo Keyd</td>\n",
       "      <td>149</td>\n",
       "      <td>44</td>\n",
       "      <td>17</td>\n",
       "      <td>20</td>\n",
       "      <td>5</td>\n",
       "    </tr>\n",
       "    <tr>\n",
       "      <th>3</th>\n",
       "      <td>TShow</td>\n",
       "      <td>0</td>\n",
       "      <td>0</td>\n",
       "      <td>0</td>\n",
       "      <td>7</td>\n",
       "      <td>0</td>\n",
       "    </tr>\n",
       "    <tr>\n",
       "      <th>4</th>\n",
       "      <td>Team United</td>\n",
       "      <td>5</td>\n",
       "      <td>1</td>\n",
       "      <td>2</td>\n",
       "      <td>7</td>\n",
       "      <td>0</td>\n",
       "    </tr>\n",
       "  </tbody>\n",
       "</table>\n",
       "</div>"
      ],
      "text/plain": [
       "        Equipe  Pontos Ganhos  Vitórias  Empates  Derrotas  \\\n",
       "0      vTi Nox              6         2        0         1   \n",
       "1    vTi Ignis              9         3        0         0   \n",
       "2    Vivo Keyd            149        44       17        20   \n",
       "3        TShow              0         0        0         7   \n",
       "4  Team United              5         1        2         7   \n",
       "\n",
       "   Finais Participadas  \n",
       "0                    1  \n",
       "1                    1  \n",
       "2                    5  \n",
       "3                    0  \n",
       "4                    0  "
      ]
     },
     "execution_count": 54,
     "metadata": {},
     "output_type": "execute_result"
    }
   ],
   "source": [
    "pontos.head()"
   ]
  },
  {
   "cell_type": "code",
   "execution_count": 6,
   "metadata": {},
   "outputs": [],
   "source": [
    "sorted_pontos = pontos.sort_values(by=['Pontos Ganhos'],ignore_index=True,na_position='first')\n",
    "sorted_pontos = sorted_pontos.tail()"
   ]
  },
  {
   "cell_type": "code",
   "execution_count": 7,
   "metadata": {},
   "outputs": [
    {
     "data": {
      "image/png": "[encoded data removed]",
      "text/plain": [
       "<Figure size 432x288 with 1 Axes>"
      ]
     },
     "metadata": {
      "needs_background": "light"
     },
     "output_type": "display_data"
    }
   ],
   "source": [
    "#criando uma figure, axes\n",
    "fig, ax = plt.subplots()\n",
    "#Adicionando um título\n",
    "ax.set_title(\"5 Maiores pontuadores\", fontdict={'fontsize':15})\n",
    "#Colocando na inclinação os nomes das equipes\n",
    "plt.xticks(rotation = 60)\n",
    "#criando o gráfico de barras \n",
    "sns.barplot(x=sorted_pontos['Equipe'], y=sorted_pontos['Pontos Ganhos'], ax=ax, data=sorted_pontos)\n",
    "#otimizar espaço da figure\n",
    "fig.tight_layout();"
   ]
  },
  {
   "cell_type": "markdown",
   "metadata": {},
   "source": [
    "#### Acaba que essa análise é um pouco inviesada pelo detalhe que, consequentemente times que estão a mais tempo na competição, terão mais pontos. Porém o fato curioso é que, equipes como INTZ e KaBum, mesmo sendo introduzidas ao CBLOL em 2014, figuram o top 5. "
   ]
  },
  {
   "cell_type": "markdown",
   "metadata": {},
   "source": [
    "### ------------------------------------------------------------------------------------------------------------------------------------------------------------"
   ]
  },
  {
   "cell_type": "code",
   "execution_count": 8,
   "metadata": {},
   "outputs": [
    {
     "data": {
      "text/html": [
       "<div>\n",
       "<style scoped>\n",
       "    .dataframe tbody tr th:only-of-type {\n",
       "        vertical-align: middle;\n",
       "    }\n",
       "\n",
       "    .dataframe tbody tr th {\n",
       "        vertical-align: top;\n",
       "    }\n",
       "\n",
       "    .dataframe thead th {\n",
       "        text-align: right;\n",
       "    }\n",
       "</style>\n",
       "<table border=\"1\" class=\"dataframe\">\n",
       "  <thead>\n",
       "    <tr style=\"text-align: right;\">\n",
       "      <th></th>\n",
       "      <th>Equipe</th>\n",
       "      <th>Títulos</th>\n",
       "      <th>Vices</th>\n",
       "      <th>Edições em que foi campeão</th>\n",
       "      <th>Edições em que foi vice</th>\n",
       "      <th>Ref</th>\n",
       "    </tr>\n",
       "  </thead>\n",
       "  <tbody>\n",
       "    <tr>\n",
       "      <th>0</th>\n",
       "      <td>INTZ e-Sports</td>\n",
       "      <td>5</td>\n",
       "      <td>2</td>\n",
       "      <td>2015 (1ª), 2016 (1ª e 2ª), 2019 (1ª), 2020 (2ª)</td>\n",
       "      <td>2015 (2ª), 2019 (2ª)</td>\n",
       "      <td>[101]-</td>\n",
       "    </tr>\n",
       "    <tr>\n",
       "      <th>1</th>\n",
       "      <td>KaBuM!</td>\n",
       "      <td>4</td>\n",
       "      <td>0</td>\n",
       "      <td>2014 (2ª), 2018 (1ª e 2ª), 2020 (1ª)</td>\n",
       "      <td>Nenhuma</td>\n",
       "      <td>NaN</td>\n",
       "    </tr>\n",
       "    <tr>\n",
       "      <th>2</th>\n",
       "      <td>paiN Gaming</td>\n",
       "      <td>2</td>\n",
       "      <td>3</td>\n",
       "      <td>2013 , 2015 ( 2ª)</td>\n",
       "      <td>2014 (1°), 2017 (2ª), 2020 (2ª)</td>\n",
       "      <td>[102]</td>\n",
       "    </tr>\n",
       "    <tr>\n",
       "      <th>3</th>\n",
       "      <td>Vivo Keyd</td>\n",
       "      <td>1</td>\n",
       "      <td>4</td>\n",
       "      <td>2014 (1ª)</td>\n",
       "      <td>2015 (1ª), 2016 (1ª), 2017 (1ª), 2018 (1ª)</td>\n",
       "      <td>[103]</td>\n",
       "    </tr>\n",
       "    <tr>\n",
       "      <th>4</th>\n",
       "      <td>Flamengo eSports</td>\n",
       "      <td>1</td>\n",
       "      <td>3</td>\n",
       "      <td>2019 (2ª)</td>\n",
       "      <td>2018 (2ª), 2019 (1ª), 2020 (1ª)</td>\n",
       "      <td>NaN</td>\n",
       "    </tr>\n",
       "    <tr>\n",
       "      <th>5</th>\n",
       "      <td>vTi Ignis</td>\n",
       "      <td>1</td>\n",
       "      <td>0</td>\n",
       "      <td>2012</td>\n",
       "      <td>Nenhuma</td>\n",
       "      <td>NaN</td>\n",
       "    </tr>\n",
       "    <tr>\n",
       "      <th>6</th>\n",
       "      <td>RED Canids</td>\n",
       "      <td>1</td>\n",
       "      <td>0</td>\n",
       "      <td>2017 (1ª)</td>\n",
       "      <td>Nenhuma</td>\n",
       "      <td>[104]</td>\n",
       "    </tr>\n",
       "    <tr>\n",
       "      <th>7</th>\n",
       "      <td>Team oNe eSports</td>\n",
       "      <td>1</td>\n",
       "      <td>0</td>\n",
       "      <td>2017 (2ª)</td>\n",
       "      <td>Nenhuma</td>\n",
       "      <td>NaN</td>\n",
       "    </tr>\n",
       "    <tr>\n",
       "      <th>8</th>\n",
       "      <td>CNB e-Sports Club</td>\n",
       "      <td>0</td>\n",
       "      <td>3</td>\n",
       "      <td>Nenhuma</td>\n",
       "      <td>2013, 2014(2ª), 2016 (2ª)</td>\n",
       "      <td>NaN</td>\n",
       "    </tr>\n",
       "    <tr>\n",
       "      <th>9</th>\n",
       "      <td>vTi Nox</td>\n",
       "      <td>0</td>\n",
       "      <td>1</td>\n",
       "      <td>Nenhuma</td>\n",
       "      <td>2012</td>\n",
       "      <td>NaN</td>\n",
       "    </tr>\n",
       "  </tbody>\n",
       "</table>\n",
       "</div>"
      ],
      "text/plain": [
       "              Equipe  Títulos  Vices  \\\n",
       "0      INTZ e-Sports        5      2   \n",
       "1             KaBuM!        4      0   \n",
       "2        paiN Gaming        2      3   \n",
       "3          Vivo Keyd        1      4   \n",
       "4   Flamengo eSports        1      3   \n",
       "5          vTi Ignis        1      0   \n",
       "6         RED Canids        1      0   \n",
       "7   Team oNe eSports        1      0   \n",
       "8  CNB e-Sports Club        0      3   \n",
       "9            vTi Nox        0      1   \n",
       "\n",
       "                        Edições em que foi campeão  \\\n",
       "0  2015 (1ª), 2016 (1ª e 2ª), 2019 (1ª), 2020 (2ª)   \n",
       "1             2014 (2ª), 2018 (1ª e 2ª), 2020 (1ª)   \n",
       "2                                2013 , 2015 ( 2ª)   \n",
       "3                                        2014 (1ª)   \n",
       "4                                        2019 (2ª)   \n",
       "5                                             2012   \n",
       "6                                        2017 (1ª)   \n",
       "7                                        2017 (2ª)   \n",
       "8                                          Nenhuma   \n",
       "9                                          Nenhuma   \n",
       "\n",
       "                      Edições em que foi vice     Ref  \n",
       "0                        2015 (2ª), 2019 (2ª)  [101]-  \n",
       "1                                     Nenhuma     NaN  \n",
       "2             2014 (1°), 2017 (2ª), 2020 (2ª)   [102]  \n",
       "3  2015 (1ª), 2016 (1ª), 2017 (1ª), 2018 (1ª)   [103]  \n",
       "4             2018 (2ª), 2019 (1ª), 2020 (1ª)     NaN  \n",
       "5                                     Nenhuma     NaN  \n",
       "6                                     Nenhuma   [104]  \n",
       "7                                     Nenhuma     NaN  \n",
       "8                   2013, 2014(2ª), 2016 (2ª)     NaN  \n",
       "9                                        2012     NaN  "
      ]
     },
     "execution_count": 8,
     "metadata": {},
     "output_type": "execute_result"
    }
   ],
   "source": [
    "titulos"
   ]
  },
  {
   "cell_type": "code",
   "execution_count": 9,
   "metadata": {},
   "outputs": [
    {
     "data": {
      "text/html": [
       "<div>\n",
       "<style scoped>\n",
       "    .dataframe tbody tr th:only-of-type {\n",
       "        vertical-align: middle;\n",
       "    }\n",
       "\n",
       "    .dataframe tbody tr th {\n",
       "        vertical-align: top;\n",
       "    }\n",
       "\n",
       "    .dataframe thead th {\n",
       "        text-align: right;\n",
       "    }\n",
       "</style>\n",
       "<table border=\"1\" class=\"dataframe\">\n",
       "  <thead>\n",
       "    <tr style=\"text-align: right;\">\n",
       "      <th></th>\n",
       "      <th>Equipe</th>\n",
       "      <th>Títulos</th>\n",
       "      <th>Vices</th>\n",
       "    </tr>\n",
       "  </thead>\n",
       "  <tbody>\n",
       "    <tr>\n",
       "      <th>0</th>\n",
       "      <td>INTZ e-Sports</td>\n",
       "      <td>5</td>\n",
       "      <td>2</td>\n",
       "    </tr>\n",
       "    <tr>\n",
       "      <th>1</th>\n",
       "      <td>KaBuM!</td>\n",
       "      <td>4</td>\n",
       "      <td>0</td>\n",
       "    </tr>\n",
       "    <tr>\n",
       "      <th>2</th>\n",
       "      <td>paiN Gaming</td>\n",
       "      <td>2</td>\n",
       "      <td>3</td>\n",
       "    </tr>\n",
       "    <tr>\n",
       "      <th>3</th>\n",
       "      <td>Vivo Keyd</td>\n",
       "      <td>1</td>\n",
       "      <td>4</td>\n",
       "    </tr>\n",
       "    <tr>\n",
       "      <th>4</th>\n",
       "      <td>Flamengo eSports</td>\n",
       "      <td>1</td>\n",
       "      <td>3</td>\n",
       "    </tr>\n",
       "    <tr>\n",
       "      <th>5</th>\n",
       "      <td>vTi Ignis</td>\n",
       "      <td>1</td>\n",
       "      <td>0</td>\n",
       "    </tr>\n",
       "    <tr>\n",
       "      <th>6</th>\n",
       "      <td>RED Canids</td>\n",
       "      <td>1</td>\n",
       "      <td>0</td>\n",
       "    </tr>\n",
       "    <tr>\n",
       "      <th>7</th>\n",
       "      <td>Team oNe eSports</td>\n",
       "      <td>1</td>\n",
       "      <td>0</td>\n",
       "    </tr>\n",
       "    <tr>\n",
       "      <th>8</th>\n",
       "      <td>CNB e-Sports Club</td>\n",
       "      <td>0</td>\n",
       "      <td>3</td>\n",
       "    </tr>\n",
       "    <tr>\n",
       "      <th>9</th>\n",
       "      <td>vTi Nox</td>\n",
       "      <td>0</td>\n",
       "      <td>1</td>\n",
       "    </tr>\n",
       "  </tbody>\n",
       "</table>\n",
       "</div>"
      ],
      "text/plain": [
       "              Equipe  Títulos  Vices\n",
       "0      INTZ e-Sports        5      2\n",
       "1             KaBuM!        4      0\n",
       "2        paiN Gaming        2      3\n",
       "3          Vivo Keyd        1      4\n",
       "4   Flamengo eSports        1      3\n",
       "5          vTi Ignis        1      0\n",
       "6         RED Canids        1      0\n",
       "7   Team oNe eSports        1      0\n",
       "8  CNB e-Sports Club        0      3\n",
       "9            vTi Nox        0      1"
      ]
     },
     "execution_count": 9,
     "metadata": {},
     "output_type": "execute_result"
    }
   ],
   "source": [
    "titulos = titulos[['Equipe', 'Títulos', 'Vices']]\n",
    "titulos"
   ]
  },
  {
   "cell_type": "markdown",
   "metadata": {},
   "source": [
    "#### Algumas análises que conseguimos fazer, apenas observando os títulos das equipes, é primeiramente o quão a INTZ é uma equipe forte em finais, sendo a que mais chegou em finais em todo CBLOL, mesmo iniciando sua jornada em 2014, dois anos após o inicio da competição.\n",
    "#### Outra observação interessante é que, o Flamengo, apesar de possuir 3 vices, é uma organização que chegou a competição no segundo semestre de 2018, ou seja, participou ate então de 5 edições do CBLOL (No CBLOL são duas edições por ano), e ainda assim, sendo uma organização extremamente jovem, chegou a final em 4 das 5 ocasiões.\n",
    "#### Ponto a se destacar é a KaBum, que nunca perdeu uma final que disputou, sendo 4 finais e 4 vitórias. \n",
    "#### E apesar de termos o Flamengo na competição, a brincadeira do cheirinho fica com a CNB, que apesar de estar na competição desde 2012, sendo sua útlima participação no segundo semestre de 2019."
   ]
  },
  {
   "cell_type": "markdown",
   "metadata": {},
   "source": [
    "### -------------------------------------------------------------------------------------------------------------------------------------------------------------------"
   ]
  },
  {
   "cell_type": "code",
   "execution_count": 50,
   "metadata": {},
   "outputs": [
    {
     "data": {
      "text/html": [
       "<div>\n",
       "<style scoped>\n",
       "    .dataframe tbody tr th:only-of-type {\n",
       "        vertical-align: middle;\n",
       "    }\n",
       "\n",
       "    .dataframe tbody tr th {\n",
       "        vertical-align: top;\n",
       "    }\n",
       "\n",
       "    .dataframe thead th {\n",
       "        text-align: right;\n",
       "    }\n",
       "</style>\n",
       "<table border=\"1\" class=\"dataframe\">\n",
       "  <thead>\n",
       "    <tr style=\"text-align: right;\">\n",
       "      <th></th>\n",
       "      <th>Jogador</th>\n",
       "      <th>Títulos</th>\n",
       "      <th>Vices</th>\n",
       "    </tr>\n",
       "  </thead>\n",
       "  <tbody>\n",
       "    <tr>\n",
       "      <th>0</th>\n",
       "      <td>Ygor \"RedBert\" Freitas</td>\n",
       "      <td>3</td>\n",
       "      <td>1</td>\n",
       "    </tr>\n",
       "    <tr>\n",
       "      <th>1</th>\n",
       "      <td>Thúlio \"SirT\" Carlos da Silva</td>\n",
       "      <td>2</td>\n",
       "      <td>0</td>\n",
       "    </tr>\n",
       "    <tr>\n",
       "      <th>2</th>\n",
       "      <td>Thiago \"TinOwns\" Sartori</td>\n",
       "      <td>1</td>\n",
       "      <td>3</td>\n",
       "    </tr>\n",
       "    <tr>\n",
       "      <th>3</th>\n",
       "      <td>Rodrigo \"Tay\" Panisa</td>\n",
       "      <td>2</td>\n",
       "      <td>2</td>\n",
       "    </tr>\n",
       "    <tr>\n",
       "      <th>4</th>\n",
       "      <td>Rafael \"rafes\" Peres</td>\n",
       "      <td>1</td>\n",
       "      <td>0</td>\n",
       "    </tr>\n",
       "  </tbody>\n",
       "</table>\n",
       "</div>"
      ],
      "text/plain": [
       "                         Jogador  Títulos  Vices\n",
       "0         Ygor \"RedBert\" Freitas        3      1\n",
       "1  Thúlio \"SirT\" Carlos da Silva        2      0\n",
       "2       Thiago \"TinOwns\" Sartori        1      3\n",
       "3           Rodrigo \"Tay\" Panisa        2      2\n",
       "4           Rafael \"rafes\" Peres        1      0"
      ]
     },
     "execution_count": 50,
     "metadata": {},
     "output_type": "execute_result"
    }
   ],
   "source": [
    "participacao_jogadores.head()"
   ]
  },
  {
   "cell_type": "code",
   "execution_count": 51,
   "metadata": {},
   "outputs": [
    {
     "data": {
      "text/html": [
       "<div>\n",
       "<style scoped>\n",
       "    .dataframe tbody tr th:only-of-type {\n",
       "        vertical-align: middle;\n",
       "    }\n",
       "\n",
       "    .dataframe tbody tr th {\n",
       "        vertical-align: top;\n",
       "    }\n",
       "\n",
       "    .dataframe thead th {\n",
       "        text-align: right;\n",
       "    }\n",
       "</style>\n",
       "<table border=\"1\" class=\"dataframe\">\n",
       "  <thead>\n",
       "    <tr style=\"text-align: right;\">\n",
       "      <th></th>\n",
       "      <th>Jogador</th>\n",
       "      <th>Títulos</th>\n",
       "      <th>Vices</th>\n",
       "    </tr>\n",
       "  </thead>\n",
       "  <tbody>\n",
       "    <tr>\n",
       "      <th>0</th>\n",
       "      <td>Ygor \"RedBert\" Freitas</td>\n",
       "      <td>3</td>\n",
       "      <td>1</td>\n",
       "    </tr>\n",
       "    <tr>\n",
       "      <th>1</th>\n",
       "      <td>Thúlio \"SirT\" Carlos da Silva</td>\n",
       "      <td>2</td>\n",
       "      <td>0</td>\n",
       "    </tr>\n",
       "    <tr>\n",
       "      <th>2</th>\n",
       "      <td>Thiago \"TinOwns\" Sartori</td>\n",
       "      <td>1</td>\n",
       "      <td>3</td>\n",
       "    </tr>\n",
       "    <tr>\n",
       "      <th>3</th>\n",
       "      <td>Rodrigo \"Tay\" Panisa</td>\n",
       "      <td>2</td>\n",
       "      <td>2</td>\n",
       "    </tr>\n",
       "    <tr>\n",
       "      <th>4</th>\n",
       "      <td>Rafael \"rafes\" Peres</td>\n",
       "      <td>1</td>\n",
       "      <td>0</td>\n",
       "    </tr>\n",
       "  </tbody>\n",
       "</table>\n",
       "</div>"
      ],
      "text/plain": [
       "                         Jogador  Títulos  Vices\n",
       "0         Ygor \"RedBert\" Freitas        3      1\n",
       "1  Thúlio \"SirT\" Carlos da Silva        2      0\n",
       "2       Thiago \"TinOwns\" Sartori        1      3\n",
       "3           Rodrigo \"Tay\" Panisa        2      2\n",
       "4           Rafael \"rafes\" Peres        1      0"
      ]
     },
     "execution_count": 51,
     "metadata": {},
     "output_type": "execute_result"
    }
   ],
   "source": [
    "participacao_jogadores = participacao_jogadores[['Jogador', 'Títulos', 'Vices']]\n",
    "participacao_jogadores.head()"
   ]
  },
  {
   "cell_type": "code",
   "execution_count": 52,
   "metadata": {},
   "outputs": [
    {
     "name": "stderr",
     "output_type": "stream",
     "text": [
      "C:\\Users\\luigi\\Anaconda3\\lib\\site-packages\\ipykernel_launcher.py:3: SettingWithCopyWarning: \n",
      "A value is trying to be set on a copy of a slice from a DataFrame.\n",
      "Try using .loc[row_indexer,col_indexer] = value instead\n",
      "\n",
      "See the caveats in the documentation: https://pandas.pydata.org/pandas-docs/stable/user_guide/indexing.html#returning-a-view-versus-a-copy\n",
      "  This is separate from the ipykernel package so we can avoid doing imports until\n"
     ]
    },
    {
     "data": {
      "text/html": [
       "<div>\n",
       "<style scoped>\n",
       "    .dataframe tbody tr th:only-of-type {\n",
       "        vertical-align: middle;\n",
       "    }\n",
       "\n",
       "    .dataframe tbody tr th {\n",
       "        vertical-align: top;\n",
       "    }\n",
       "\n",
       "    .dataframe thead th {\n",
       "        text-align: right;\n",
       "    }\n",
       "</style>\n",
       "<table border=\"1\" class=\"dataframe\">\n",
       "  <thead>\n",
       "    <tr style=\"text-align: right;\">\n",
       "      <th></th>\n",
       "      <th>Jogador</th>\n",
       "      <th>Títulos</th>\n",
       "      <th>Vices</th>\n",
       "      <th>Finais</th>\n",
       "    </tr>\n",
       "  </thead>\n",
       "  <tbody>\n",
       "    <tr>\n",
       "      <th>0</th>\n",
       "      <td>Felipe \"brTT\" Gonçalves</td>\n",
       "      <td>5</td>\n",
       "      <td>3</td>\n",
       "      <td>8</td>\n",
       "    </tr>\n",
       "    <tr>\n",
       "      <th>1</th>\n",
       "      <td>Micael \"micaO\" Rodrigues</td>\n",
       "      <td>4</td>\n",
       "      <td>3</td>\n",
       "      <td>7</td>\n",
       "    </tr>\n",
       "    <tr>\n",
       "      <th>2</th>\n",
       "      <td>Gabriel \"Tockers\" Claumann</td>\n",
       "      <td>4</td>\n",
       "      <td>2</td>\n",
       "      <td>6</td>\n",
       "    </tr>\n",
       "  </tbody>\n",
       "</table>\n",
       "</div>"
      ],
      "text/plain": [
       "                      Jogador  Títulos  Vices  Finais\n",
       "0     Felipe \"brTT\" Gonçalves        5      3       8\n",
       "1    Micael \"micaO\" Rodrigues        4      3       7\n",
       "2  Gabriel \"Tockers\" Claumann        4      2       6"
      ]
     },
     "execution_count": 52,
     "metadata": {},
     "output_type": "execute_result"
    }
   ],
   "source": [
    "part_jog_sort = participacao_jogadores.sort_values(by=['Títulos'],ascending=False, ignore_index=True,na_position='first')\n",
    "part_jog_sort1 = part_jog_sort.head(10)\n",
    "part_jog_sort1['Finais'] = part_jog_sort1['Títulos'] + part_jog_sort1['Vices']\n",
    "part_jog_sort1.head(3)"
   ]
  },
  {
   "cell_type": "code",
   "execution_count": 53,
   "metadata": {},
   "outputs": [
    {
     "data": {
      "text/html": [
       "<div>\n",
       "<style scoped>\n",
       "    .dataframe tbody tr th:only-of-type {\n",
       "        vertical-align: middle;\n",
       "    }\n",
       "\n",
       "    .dataframe tbody tr th {\n",
       "        vertical-align: top;\n",
       "    }\n",
       "\n",
       "    .dataframe thead th {\n",
       "        text-align: right;\n",
       "    }\n",
       "</style>\n",
       "<table border=\"1\" class=\"dataframe\">\n",
       "  <thead>\n",
       "    <tr style=\"text-align: right;\">\n",
       "      <th></th>\n",
       "      <th>Jogador</th>\n",
       "      <th>Títulos</th>\n",
       "      <th>Vices</th>\n",
       "    </tr>\n",
       "  </thead>\n",
       "  <tbody>\n",
       "    <tr>\n",
       "      <th>0</th>\n",
       "      <td>Murilo \"Takeshi\" Alves</td>\n",
       "      <td>0</td>\n",
       "      <td>5</td>\n",
       "    </tr>\n",
       "    <tr>\n",
       "      <th>1</th>\n",
       "      <td>Caio \"Loop\" Almeida</td>\n",
       "      <td>2</td>\n",
       "      <td>3</td>\n",
       "    </tr>\n",
       "    <tr>\n",
       "      <th>2</th>\n",
       "      <td>Thiago \"TinOwns\" Sartori</td>\n",
       "      <td>1</td>\n",
       "      <td>3</td>\n",
       "    </tr>\n",
       "  </tbody>\n",
       "</table>\n",
       "</div>"
      ],
      "text/plain": [
       "                    Jogador  Títulos  Vices\n",
       "0    Murilo \"Takeshi\" Alves        0      5\n",
       "1       Caio \"Loop\" Almeida        2      3\n",
       "2  Thiago \"TinOwns\" Sartori        1      3"
      ]
     },
     "execution_count": 53,
     "metadata": {},
     "output_type": "execute_result"
    }
   ],
   "source": [
    "part_jog_sort = participacao_jogadores.sort_values(by=['Vices'],ascending=False, ignore_index=True,na_position='first')\n",
    "part_jog_sort2 = part_jog_sort.head(10)\n",
    "part_jog_sort2.head(3)"
   ]
  },
  {
   "cell_type": "markdown",
   "metadata": {},
   "source": [
    "### Os cinco maiores vitoriosos do CBLOL?"
   ]
  },
  {
   "cell_type": "code",
   "execution_count": 44,
   "metadata": {},
   "outputs": [
    {
     "data": {
      "image/png": "[encoded data removed]",
      "text/plain": [
       "<Figure size 720x432 with 1 Axes>"
      ]
     },
     "metadata": {
      "needs_background": "light"
     },
     "output_type": "display_data"
    }
   ],
   "source": [
    "# Quantidade de vendas para o Produto A\n",
    "participacao_jogadores_t = part_jog_sort1['Títulos'].head(5)\n",
    "\n",
    "# Quantidade de vendas para o Produto B\n",
    "participacao_jogadores_v = part_jog_sort1['Vices'].head(5)\n",
    "\n",
    "plt.figure(figsize = (10, 6))\n",
    "\n",
    "# Cria eixo x para produto A e produto B com uma separação de 0.25 entre as barras\n",
    "x1 =  np.arange(len(participacao_jogadores_t))\n",
    "x2 = [x + 0.25 for x in x1]\n",
    "\n",
    "plt.xticks(rotation = 50)\n",
    "\n",
    "\n",
    "# Plota as barras\n",
    "plt.bar(x1, participacao_jogadores_t, width=0.25, label = 'Títulos', color = 'b')\n",
    "plt.bar(x2, participacao_jogadores_v, width=0.25, label = 'Vices', color = 'y')\n",
    "\n",
    "# coloca o nome dos meses como label do eixo x\n",
    "jogadores = part_jog_sort1['Jogador']\n",
    "plt.xticks([x + 0.25 for x in range(len(participacao_jogadores_t))], jogadores)\n",
    "\n",
    "# inseri uma legenda no gráfico\n",
    "plt.legend()\n",
    "\n",
    "plt.title(\"Títulos x Vices\")\n",
    "plt.show()"
   ]
  },
  {
   "cell_type": "markdown",
   "metadata": {},
   "source": [
    "#### Quais jogadores mais chegaram em Finais no CBLOL?"
   ]
  },
  {
   "cell_type": "code",
   "execution_count": 49,
   "metadata": {},
   "outputs": [
    {
     "data": {
      "image/png": "[encoded data removed]",
      "text/plain": [
       "<Figure size 432x288 with 1 Axes>"
      ]
     },
     "metadata": {
      "needs_background": "light"
     },
     "output_type": "display_data"
    }
   ],
   "source": [
    "grupos = part_jog_sort1['Jogador']\n",
    "valores = part_jog_sort1['Finais']\n",
    "plt.barh(grupos, valores)\n",
    "plt.show()"
   ]
  },
  {
   "cell_type": "markdown",
   "metadata": {},
   "source": [
    "#### Qual jogador merece o título de \"Vasco\" do CBLOL?"
   ]
  },
  {
   "cell_type": "code",
   "execution_count": 48,
   "metadata": {},
   "outputs": [
    {
     "data": {
      "image/png": "[encoded data removed]",
      "text/plain": [
       "<Figure size 432x288 with 1 Axes>"
      ]
     },
     "metadata": {
      "needs_background": "light"
     },
     "output_type": "display_data"
    }
   ],
   "source": [
    "grupos = part_jog_sort2['Jogador']\n",
    "valores = part_jog_sort2['Vices']\n",
    "plt.barh(grupos, valores)\n",
    "plt.show()"
   ]
  },
  {
   "cell_type": "markdown",
   "metadata": {},
   "source": [
    "### -------------------------------------------------------------------------------------------------------------------------------------------------------------------"
   ]
  },
  {
   "cell_type": "code",
   "execution_count": 103,
   "metadata": {
    "scrolled": true
   },
   "outputs": [
    {
     "data": {
      "text/html": [
       "<div>\n",
       "<style scoped>\n",
       "    .dataframe tbody tr th:only-of-type {\n",
       "        vertical-align: middle;\n",
       "    }\n",
       "\n",
       "    .dataframe tbody tr th {\n",
       "        vertical-align: top;\n",
       "    }\n",
       "\n",
       "    .dataframe thead th {\n",
       "        text-align: right;\n",
       "    }\n",
       "</style>\n",
       "<table border=\"1\" class=\"dataframe\">\n",
       "  <thead>\n",
       "    <tr style=\"text-align: right;\">\n",
       "      <th></th>\n",
       "      <th>Categoria</th>\n",
       "      <th>Ganhador</th>\n",
       "      <th>Equipe</th>\n",
       "      <th>2017</th>\n",
       "    </tr>\n",
       "  </thead>\n",
       "  <tbody>\n",
       "    <tr>\n",
       "      <th>0</th>\n",
       "      <td>Jogador Revelação</td>\n",
       "      <td>Absolut</td>\n",
       "      <td>Team One</td>\n",
       "      <td>2017</td>\n",
       "    </tr>\n",
       "    <tr>\n",
       "      <th>1</th>\n",
       "      <td>Caçador</td>\n",
       "      <td>4Lan</td>\n",
       "      <td>Team One</td>\n",
       "      <td>2017</td>\n",
       "    </tr>\n",
       "    <tr>\n",
       "      <th>2</th>\n",
       "      <td>Melhor Suporte</td>\n",
       "      <td>Jockster</td>\n",
       "      <td>INTZ</td>\n",
       "      <td>2017</td>\n",
       "    </tr>\n",
       "    <tr>\n",
       "      <th>3</th>\n",
       "      <td>Melhor Técnico</td>\n",
       "      <td>Neki</td>\n",
       "      <td>Team One</td>\n",
       "      <td>2017</td>\n",
       "    </tr>\n",
       "    <tr>\n",
       "      <th>4</th>\n",
       "      <td>Melhor Topo</td>\n",
       "      <td>Vvvert</td>\n",
       "      <td>Team One</td>\n",
       "      <td>2017</td>\n",
       "    </tr>\n",
       "  </tbody>\n",
       "</table>\n",
       "</div>"
      ],
      "text/plain": [
       "           Categoria  Ganhador    Equipe  2017\n",
       "0  Jogador Revelação   Absolut  Team One  2017\n",
       "1            Caçador      4Lan  Team One  2017\n",
       "2     Melhor Suporte  Jockster      INTZ  2017\n",
       "3     Melhor Técnico      Neki  Team One  2017\n",
       "4        Melhor Topo    Vvvert  Team One  2017"
      ]
     },
     "execution_count": 103,
     "metadata": {},
     "output_type": "execute_result"
    }
   ],
   "source": [
    "premios.head()"
   ]
  },
  {
   "cell_type": "markdown",
   "metadata": {},
   "source": [
    "#### Maior ganhador de Prêmios no CBLOL"
   ]
  },
  {
   "cell_type": "code",
   "execution_count": 101,
   "metadata": {},
   "outputs": [
    {
     "data": {
      "text/plain": [
       "<seaborn.axisgrid.FacetGrid at 0x2aa1d1aaac8>"
      ]
     },
     "execution_count": 101,
     "metadata": {},
     "output_type": "execute_result"
    },
    {
     "data": {
      "image/png": "[encoded data removed]",
      "text/plain": [
       "<Figure size 720x360 with 1 Axes>"
      ]
     },
     "metadata": {
      "needs_background": "light"
     },
     "output_type": "display_data"
    }
   ],
   "source": [
    "\n",
    "\n",
    "t = sns.factorplot('Ganhador', data=premios, kind='count', aspect=20/10)\n",
    "t.set_xticklabels(rotation=70)\n",
    "\n"
   ]
  },
  {
   "cell_type": "markdown",
   "metadata": {},
   "source": [
    "#### Organização que mais teve jogadores premiados no CBLOL"
   ]
  },
  {
   "cell_type": "code",
   "execution_count": 102,
   "metadata": {},
   "outputs": [
    {
     "data": {
      "text/plain": [
       "<seaborn.axisgrid.FacetGrid at 0x2aa1d1961c8>"
      ]
     },
     "execution_count": 102,
     "metadata": {},
     "output_type": "execute_result"
    },
    {
     "data": {
      "image/png": "[encoded data removed]",
      "text/plain": [
       "<Figure size 720x360 with 1 Axes>"
      ]
     },
     "metadata": {
      "needs_background": "light"
     },
     "output_type": "display_data"
    }
   ],
   "source": [
    "t1 = sns.factorplot('Equipe', data=premios, kind='count', aspect=20/10)\n",
    "t1.set_xticklabels(rotation=70)"
   ]
  },
  {
   "cell_type": "code",
   "execution_count": null,
   "metadata": {},
   "outputs": [],
   "source": []
  }
 ],
 "metadata": {
  "kernelspec": {
   "display_name": "Python 3",
   "language": "python",
   "name": "python3"
  },
  "language_info": {
   "codemirror_mode": {
    "name": "ipython",
    "version": 3
   },
   "file_extension": ".py",
   "mimetype": "text/x-python",
   "name": "python",
   "nbconvert_exporter": "python",
   "pygments_lexer": "ipython3",
   "version": "3.7.6"
  }
 },
 "nbformat": 4,
 "nbformat_minor": 4
}
